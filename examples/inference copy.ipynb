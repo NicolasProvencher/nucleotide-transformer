{
   "cells": [
      {
         "cell_type": "markdown",
         "id": "a201d7bf-d4d2-456a-a599-08abcfec6d72",
         "metadata": {},
         "source": [
            "# Inference with pretrained Nucleotide Transformer models"
         ]
      },
      {
         "cell_type": "markdown",
         "id": "c1f4cd74-0db3-4140-a2a6-e73a2c21c9d6",
         "metadata": {},
         "source": [
            "[![Open All Collab](https://colab.research.google.com/assets/colab-badge.svg)](https://colab.research.google.com/github/instadeepai/nucleotide-transformer/blob/main/examples/inference.ipynb)"
         ]
      },
      {
         "cell_type": "markdown",
         "id": "a3de6889-1ceb-4acd-8765-1805a8b8bd6d",
         "metadata": {},
         "source": [
            "## Installation and imports"
         ]
      },
      {
         "cell_type": "code",
         "execution_count": 1,
         "id": "28855f7c",
         "metadata": {},
         "outputs": [
            {
               "name": "stdout",
               "output_type": "stream",
               "text": [
                  "Looking in indexes: https://pypi.org/simple, https://packagecloud.io/github/git-lfs/pypi/simple\n",
                  "Requirement already satisfied: matplotlib in /home/hugo/anaconda3/envs/new_nt_load_from_hf/lib/python3.9/site-packages (3.9.1)\n",
                  "Requirement already satisfied: contourpy>=1.0.1 in /home/hugo/anaconda3/envs/new_nt_load_from_hf/lib/python3.9/site-packages (from matplotlib) (1.2.1)\n",
                  "Requirement already satisfied: cycler>=0.10 in /home/hugo/anaconda3/envs/new_nt_load_from_hf/lib/python3.9/site-packages (from matplotlib) (0.12.1)\n",
                  "Requirement already satisfied: fonttools>=4.22.0 in /home/hugo/anaconda3/envs/new_nt_load_from_hf/lib/python3.9/site-packages (from matplotlib) (4.53.1)\n",
                  "Requirement already satisfied: kiwisolver>=1.3.1 in /home/hugo/anaconda3/envs/new_nt_load_from_hf/lib/python3.9/site-packages (from matplotlib) (1.4.5)\n",
                  "Requirement already satisfied: numpy>=1.23 in /home/hugo/anaconda3/envs/new_nt_load_from_hf/lib/python3.9/site-packages (from matplotlib) (2.0.0)\n",
                  "Requirement already satisfied: packaging>=20.0 in /home/hugo/anaconda3/envs/new_nt_load_from_hf/lib/python3.9/site-packages (from matplotlib) (24.1)\n",
                  "Requirement already satisfied: pillow>=8 in /home/hugo/anaconda3/envs/new_nt_load_from_hf/lib/python3.9/site-packages (from matplotlib) (10.4.0)\n",
                  "Requirement already satisfied: pyparsing>=2.3.1 in /home/hugo/anaconda3/envs/new_nt_load_from_hf/lib/python3.9/site-packages (from matplotlib) (3.1.2)\n",
                  "Requirement already satisfied: python-dateutil>=2.7 in /home/hugo/anaconda3/envs/new_nt_load_from_hf/lib/python3.9/site-packages (from matplotlib) (2.9.0)\n",
                  "Requirement already satisfied: importlib-resources>=3.2.0 in /home/hugo/anaconda3/envs/new_nt_load_from_hf/lib/python3.9/site-packages (from matplotlib) (6.4.0)\n",
                  "Requirement already satisfied: zipp>=3.1.0 in /home/hugo/anaconda3/envs/new_nt_load_from_hf/lib/python3.9/site-packages (from importlib-resources>=3.2.0->matplotlib) (3.19.2)\n",
                  "Requirement already satisfied: six>=1.5 in /home/hugo/anaconda3/envs/new_nt_load_from_hf/lib/python3.9/site-packages (from python-dateutil>=2.7->matplotlib) (1.16.0)\n"
               ]
            }
         ],
         "source": [
            "!pip install matplotlib"
         ]
      },
      {
         "cell_type": "code",
         "execution_count": 1,
         "id": "3549c2f1-bbdb-4fa7-847f-782a36cdca3e",
         "metadata": {},
         "outputs": [],
         "source": [
            "import os\n",
            "\n",
            "try:\n",
            "    import nucleotide_transformer\n",
            "except:\n",
            "    !pip install numpy==1.23.5\n",
            "    !pip install git+https://github.com/instadeepai/nucleotide-transformer@main |tail -n 1\n",
            "    import nucleotide_transformer\n",
            "\n",
            "if \"COLAB_TPU_ADDR\" in os.environ:\n",
            "    from jax.tools import colab_tpu\n",
            "\n",
            "    colab_tpu.setup_tpu()\n",
            "import haiku as hk\n",
            "import jax\n",
            "import jax.numpy as jnp\n",
            "from nucleotide_transformer.pretrained import load_pretrained_model\n",
            "import numpy as np\n",
            "np.set_printoptions(threshold=np.inf)"
         ]
      },
      {
         "cell_type": "code",
         "execution_count": 6,
         "id": "4be65e94-28db-4110-a147-7d8c05b44e97",
         "metadata": {},
         "outputs": [],
         "source": []
      },
      {
         "cell_type": "markdown",
         "id": "4e09aaf8-9738-422d-ade7-aaa10122fa67",
         "metadata": {},
         "source": [
            "## Download the weights\n",
            "The following cell allows you to download the weights of any of the four nucleotide transformer model. It returns the weights dictionary, the haiku forward function, the tokenizer and the config dictionary.\n",
            "\n",
            "Please also specify:\n",
            "1. the layers at which you'd like to collect embeddings (e.g. (5, 10, 20) to get embeddings at layers 5, 10 and 20)\n",
            "2. the attention maps you´d like to collect (e.g. ((1,4), (7,18)) to get attention maps corresponding to layer 1 head number 4 and layer 7 head number 18). Please refer to the config to see the number of layers and heads in the model.\n",
            "3. the maximum number of tokens in the sequences you'll compute the inference on. You can put values up to value specified in the model's config (counting the class token that will be added automatically at the beginning of the sequence), however we recommend keeping this number as small as possible for optimized memory and inference time."
         ]
      },
      {
         "cell_type": "code",
         "execution_count": 2,
         "id": "2037a048",
         "metadata": {},
         "outputs": [],
         "source": [
            "#@title Select a model\n",
            "#@markdown ---\n",
            "model_name = '50M_multi_species_v2'#@param['500M_human_ref', '500M_1000G', '2B5_1000G', '2B5_multi_species', '50M_multi_species_v2', '100M_multi_species_v2', '250M_multi_species_v2', '500M_multi_species_v2', '1B_agro_nt']\n",
            "#@markdown ---"
         ]
      },
      {
         "cell_type": "code",
         "execution_count": 3,
         "id": "84d3d8ab-ee0e-4592-b44f-a722e9372cc0",
         "metadata": {},
         "outputs": [
            {
               "name": "stdout",
               "output_type": "stream",
               "text": [
                  "loading model's hyperparameters json file... from /home/noxatras/Desktop/nutr_github\n",
                  "loading model's weights...\n",
                  "Downloaded model's weights...\n"
               ]
            }
         ],
         "source": [
            "# Get pretrained model\n",
            "parameters, forward_fn, tokenizer, config = load_pretrained_model(\n",
            "    model_name=model_name,\n",
            "    model_path='/home/noxatras/Desktop/nutr_github',\n",
            "    embeddings_layers_to_save=(range(1,13)),\n",
            "    attention_maps_to_save=((1, 4), (7, 16)),\n",
            "    max_positions=32,\n",
            ")\n",
            "forward_fn = hk.transform(forward_fn)"
         ]
      },
      {
         "cell_type": "code",
         "execution_count": 4,
         "id": "b352d3bb",
         "metadata": {},
         "outputs": [
            {
               "name": "stdout",
               "output_type": "stream",
               "text": [
                  "NucleotideTransformerConfig(alphabet_size=4107, pad_token_id=1, mask_token_id=2, max_positions=2048, embed_scale=1.0, emb_layer_norm_before=False, attention_heads=16, key_size=32, embed_dim=512, ffn_embed_dim=2048, num_layers=12, positional_embedding=None, add_bias_kv=False, add_bias_ffn=False, use_rotary_embedding=True, rescaling_factor=None, ffn_activation_name='swish', use_glu_in_ffn=True, layer_norm_eps=1e-05, pre_layer_norm=True, token_dropout=False, masking_ratio=0.0, masking_prob=0.0, use_gradient_checkpointing=False, embeddings_layers_to_save=(12,), attention_maps_to_save=((1, 4), (7, 16)))\n"
               ]
            }
         ],
         "source": [
            "print(config)"
         ]
      },
      {
         "cell_type": "code",
         "execution_count": 75,
         "id": "27ed2d88",
         "metadata": {},
         "outputs": [],
         "source": [
            "import h5py\n",
            "#ith h5py.File('transcripts_database_test1.h5', 'r') as hdf:\n",
            "chrm='2'\n",
            "file = h5py.File('/home/noxatras/Desktop/nutr_tutorial/transcripts_database_test3.h5', 'r')\n",
            "transcripts = {file['transcript']['id'][i].decode('utf-8'): file['transcript']['sequence'][i].decode('utf-8') for i,j in enumerate(file['transcript']['id']) if file['transcript']['chrm'][i].decode('utf-8') ==chrm}\n",
            "file.close()"
         ]
      },
      {
         "cell_type": "code",
         "execution_count": 62,
         "id": "33ac662e",
         "metadata": {},
         "outputs": [
            {
               "ename": "KeyError",
               "evalue": "'ENST00000437295'",
               "output_type": "error",
               "traceback": [
                  "\u001b[0;31m---------------------------------------------------------------------------\u001b[0m",
                  "\u001b[0;31mKeyError\u001b[0m                                  Traceback (most recent call last)",
                  "Cell \u001b[0;32mIn[62], line 1\u001b[0m\n\u001b[0;32m----> 1\u001b[0m \u001b[38;5;28mprint\u001b[39m(\u001b[43mtranscripts\u001b[49m\u001b[43m[\u001b[49m\u001b[38;5;124;43m'\u001b[39;49m\u001b[38;5;124;43mENST00000437295\u001b[39;49m\u001b[38;5;124;43m'\u001b[39;49m\u001b[43m]\u001b[49m)\n",
                  "\u001b[0;31mKeyError\u001b[0m: 'ENST00000437295'"
               ]
            }
         ],
         "source": [
            "print(transcripts['ENST00000437295'])"
         ]
      },
      {
         "cell_type": "markdown",
         "id": "54878442-4c4b-4f65-b5fb-0a89aabb5ef5",
         "metadata": {},
         "source": [
            "## Define your input data and tokenize it\n",
            "You can have a look at the tokens_str variable to see how your sequences have been split into tokens. The sequences will all be padded to the value you filled for max_positions."
         ]
      },
      {
         "cell_type": "code",
         "execution_count": 76,
         "id": "85f3dcba-2e12-4fa4-8e73-8494f97b6513",
         "metadata": {},
         "outputs": [
            {
               "name": "stdout",
               "output_type": "stream",
               "text": [
                  "GGGGCGCGCCCGGCGCGACGCGGAGCAGGC\n",
                  "ENST00000567327\n"
               ]
            }
         ],
         "source": [
            "# Get data and tokenize it\n",
            "sequences = [transcripts[k][:30] for k in list(transcripts.keys())[:10]]\n",
            "id=[k for k in list(transcripts.keys())[:10]]\n",
            "print(sequences[0])\n",
            "print(id[0])\n",
            "tokens_ids = [b[1] for b in tokenizer.batch_tokenize(sequences)]\n",
            "tokens_str = [b[0] for b in tokenizer.batch_tokenize(sequences)]\n",
            "tokens = jnp.asarray(tokens_ids, dtype=jnp.int32)"
         ]
      },
      {
         "cell_type": "markdown",
         "id": "1fb9228f-ecc5-4ce0-99c2-c3062d6c19b4",
         "metadata": {},
         "source": [
            "## Do the Inference\n",
            "The first time you query this cell will be slower than usual inference because of the computation graph compilation."
         ]
      },
      {
         "cell_type": "code",
         "execution_count": 77,
         "id": "16ef8d85-31d8-4c72-97a9-c3ae4c1bdd40",
         "metadata": {},
         "outputs": [
            {
               "name": "stdout",
               "output_type": "stream",
               "text": [
                  "CPU times: user 1.31 s, sys: 37.5 ms, total: 1.35 s\n",
                  "Wall time: 254 ms\n"
               ]
            }
         ],
         "source": [
            "%%time\n",
            "# Initialize random key\n",
            "random_key = jax.random.PRNGKey(0)\n",
            "\n",
            "# Infer\n",
            "outs = forward_fn.apply(parameters, random_key, tokens)"
         ]
      },
      {
         "cell_type": "code",
         "execution_count": 45,
         "id": "fa6b405a-823c-4208-bdb4-313cd21f64fd",
         "metadata": {},
         "outputs": [
            {
               "name": "stdout",
               "output_type": "stream",
               "text": [
                  "dict_keys(['attention_map_layer_1_number_4', 'attention_map_layer_7_number_16', 'embeddings_1', 'embeddings_10', 'embeddings_11', 'embeddings_12', 'embeddings_2', 'embeddings_3', 'embeddings_4', 'embeddings_5', 'embeddings_6', 'embeddings_7', 'embeddings_8', 'embeddings_9', 'logits'])\n"
               ]
            }
         ],
         "source": [
            "print(outs.keys())"
         ]
      },
      {
         "cell_type": "code",
         "execution_count": 54,
         "id": "5e99c7fd",
         "metadata": {},
         "outputs": [
            {
               "name": "stdout",
               "output_type": "stream",
               "text": [
                  "(10, 32, 512)\n"
               ]
            }
         ],
         "source": [
            "logits=outs[f'embeddings_12']\n",
            "print(logits.shape)"
         ]
      },
      {
         "cell_type": "code",
         "execution_count": 72,
         "id": "0c8cd620",
         "metadata": {},
         "outputs": [],
         "source": [
            "file.close()"
         ]
      },
      {
         "cell_type": "code",
         "execution_count": 79,
         "id": "bdaabf10",
         "metadata": {},
         "outputs": [
            {
               "name": "stdout",
               "output_type": "stream",
               "text": [
                  "['embeddings_1', 'embeddings_10', 'embeddings_11', 'embeddings_12', 'embeddings_2', 'embeddings_3', 'embeddings_4', 'embeddings_5', 'embeddings_6', 'embeddings_7', 'embeddings_8', 'embeddings_9', 'transcript']\n",
                  "['chrm', 'id', 'logits']\n",
                  "['E', 'N', 'S', 'T', '0', '0', '0', '0', '0', '4', '9', '3', '4', '0', '9']\n",
                  "[20, 32, 512]\n",
                  "[b'10', b'10', b'10', b'10', b'10', b'10', b'10', b'10', b'10', b'10', b'2', b'2', b'2', b'2', b'2', b'2', b'2', b'2', b'2', b'2']\n"
               ]
            }
         ],
         "source": [
            "file = h5py.File('/home/noxatras/Desktop/nutr_tutorial/transcripts_database_test3.h5', 'r+')\n",
            "print([i for i in file])\n",
            "print([i for i in file['embeddings_1']])\n",
            "print([i for i in file['embeddings_1']['id'][0].decode('utf-8')])\n",
            "print([i for i in file['embeddings_1']['logits'].shape])\n",
            "print([i for i in file['embeddings_1']['chrm']])\n",
            "# for i in range(1,13):\n",
            "#     del file[f'embeddings_{i}']\n",
            "# print([i for i in file])\n",
            "\n",
            "file.close()"
         ]
      },
      {
         "cell_type": "code",
         "execution_count": 78,
         "id": "1587ce9c",
         "metadata": {},
         "outputs": [
            {
               "name": "stdout",
               "output_type": "stream",
               "text": [
                  "Embeddings saved successfully.\n"
               ]
            }
         ],
         "source": [
            "import h5py\n",
            "import numpy as np\n",
            "\n",
            "id = [k for k in list(transcripts.keys())[:10]]\n",
            "\n",
            "# Assuming `outs` contains the embeddings and `ids` contains the IDs\n",
            "with h5py.File('/home/noxatras/Desktop/nutr_tutorial/transcripts_database_test3.h5', 'r+') as hdf:\n",
            "    for i in range(1, 13):\n",
            "        logits = outs[f'embeddings_{i}']  # Adjusted to use the correct index\n",
            "        group_name = f'embeddings_{i}'\n",
            "        \n",
            "        # Check if the group exists\n",
            "        if group_name in hdf:\n",
            "            group = hdf[group_name]\n",
            "        else:\n",
            "            group = hdf.create_group(group_name)\n",
            "        \n",
            "        # Append to or create 'id' dataset\n",
            "        if 'id' in group:\n",
            "            id_dataset = group['id']\n",
            "            id_dataset.resize((id_dataset.shape[0] + len(id),))\n",
            "            id_dataset[-len(id):] = id\n",
            "        else:\n",
            "            group.create_dataset('id', data=id, maxshape=(None,))\n",
            "        \n",
            "        # Append to or create 'logits' dataset\n",
            "        if 'logits' in group:\n",
            "            logits_dataset = group['logits']\n",
            "            logits_dataset.resize((logits_dataset.shape[0] + logits.shape[0], logits.shape[1], logits.shape[2]))\n",
            "            logits_dataset[-logits.shape[0]:] = logits\n",
            "        else:\n",
            "            group.create_dataset('logits', data=logits, maxshape=(None, logits.shape[1], logits.shape[2]))\n",
            "        \n",
            "        # Append to or create 'chrm' dataset\n",
            "        if 'chrm' in group:\n",
            "            chrm_dataset = group['chrm']\n",
            "            chrm_dataset.resize((chrm_dataset.shape[0] + len(id),))\n",
            "            chrm_dataset[-len(id):] = [chrm for _ in range(len(id))]\n",
            "        else:\n",
            "            group.create_dataset('chrm', data=[chrm for _ in range(len(id))], maxshape=(None,))\n",
            "\n",
            "print(\"Embeddings saved successfully.\")"
         ]
      },
      {
         "cell_type": "code",
         "execution_count": null,
         "id": "2721ee01",
         "metadata": {},
         "outputs": [],
         "source": [
            "import h5py\n",
            "import numpy as np\n",
            "\n",
            "def load_and_split_h5(file_path, dataset_name, batch_size):\n",
            "    with h5py.File(file_path, 'r') as f:\n",
            "        data = f[dataset_name]\n",
            "        n_seq, seq_len, n_embed = data.shape\n",
            "        \n",
            "        for start_idx in range(0, n_seq, batch_size):\n",
            "            end_idx = min(start_idx + batch_size, n_seq)\n",
            "            yield data[start_idx:end_idx]\n",
            "\n",
            "# Example usage\n",
            "file_path = 'path_to_your_file.h5'\n",
            "dataset_name = 'your_dataset_name'\n",
            "batch_size = 32\n",
            "\n",
            "for batch in load_and_split_h5(file_path, dataset_name, batch_size):\n",
            "    # Process each batch\n",
            "    print(batch.shape)"
         ]
      },
      {
         "cell_type": "markdown",
         "id": "f820ee47-7d03-47d9-b3f9-9faac32005d6",
         "metadata": {},
         "source": [
            "## Retrieve embeddings\n",
            "And use them as you please! Enjoy!"
         ]
      },
      {
         "cell_type": "code",
         "execution_count": 8,
         "id": "756502bc-c1f9-44b7-b7dc-9b4c7806ac28",
         "metadata": {},
         "outputs": [
            {
               "name": "stdout",
               "output_type": "stream",
               "text": [
                  "(10, 32, 512)\n"
               ]
            }
         ],
         "source": [
            "print(outs[\"embeddings_12\"].shape)\n",
            "#n_sample x n_positions x n_features"
         ]
      },
      {
         "cell_type": "markdown",
         "id": "4e1cf379-fa94-407f-babf-02d8fcbe9844",
         "metadata": {},
         "source": [
            "**Additional Tip**: Don't forget to remove the cls token and padded positions if you want for instance to compute mean embeddings!"
         ]
      },
      {
         "cell_type": "code",
         "execution_count": 29,
         "id": "be2387a8-8edb-43d5-beaf-e129df0b2dd2",
         "metadata": {},
         "outputs": [],
         "source": [
            "embeddings = outs[\"embeddings_12\"][:, 1:, :]  # removing CLS token\n",
            "padding_mask = jnp.expand_dims(tokens[:, 1:] != tokenizer.pad_token_id, axis=-1)\n",
            "masked_embeddings = embeddings * padding_mask  # multiply by 0 pad tokens embeddings\n",
            "sequences_lengths = jnp.sum(padding_mask, axis=1)\n",
            "mean_embeddings = jnp.sum(masked_embeddings, axis=1) / sequences_lengths"
         ]
      },
      {
         "cell_type": "code",
         "execution_count": 30,
         "id": "c4037ac8",
         "metadata": {},
         "outputs": [
            {
               "name": "stdout",
               "output_type": "stream",
               "text": [
                  "(3, 31, 1)\n",
                  "(3, 31, 512)\n",
                  "(3, 1)\n",
                  "(3, 512)\n"
               ]
            }
         ],
         "source": [
            "print(padding_mask.shape)\n",
            "print(masked_embeddings.shape)\n",
            "print(sequences_lengths.shape)\n",
            "print(mean_embeddings.shape)"
         ]
      },
      {
         "cell_type": "code",
         "execution_count": 10,
         "id": "5d4a187a-265e-4125-b33c-3d2266d073c6",
         "metadata": {},
         "outputs": [
            {
               "name": "stdout",
               "output_type": "stream",
               "text": [
                  "(2, 512)\n"
               ]
            }
         ],
         "source": [
            "print(mean_embeddings.shape)"
         ]
      },
      {
         "cell_type": "code",
         "execution_count": 11,
         "id": "14fdc2f0",
         "metadata": {},
         "outputs": [
            {
               "name": "stdout",
               "output_type": "stream",
               "text": [
                  "[[ 0.03073177  0.28487873 -0.02410994 ... -0.00697623 -0.10268426\n",
                  "  -0.20914507]\n",
                  " [-0.17261794 -0.13952523 -0.12027188 ...  0.15793535  0.15447876\n",
                  "  -0.12072131]]\n"
               ]
            }
         ],
         "source": [
            "print(mean_embeddings)"
         ]
      },
      {
         "cell_type": "markdown",
         "id": "d5cbc188-61b6-4bd8-81d9-4a6bc135e37c",
         "metadata": {},
         "source": [
            "## Get attention maps\n",
            "Here is an example on how to retrieve attention maps at a specific layer for a given head and how to plot them."
         ]
      },
      {
         "cell_type": "code",
         "execution_count": 32,
         "id": "db064f47-fdb3-44d8-b259-c76041135c0f",
         "metadata": {},
         "outputs": [
            {
               "name": "stdout",
               "output_type": "stream",
               "text": [
                  "(2, 32, 32)\n"
               ]
            }
         ],
         "source": [
            "print(outs[\"attention_map_layer_1_number_4\"].shape)"
         ]
      },
      {
         "cell_type": "code",
         "execution_count": 33,
         "id": "b756c121-c203-46f7-a1a2-b85fd8f8f46c",
         "metadata": {},
         "outputs": [
            {
               "data": {
                  "image/png": "[encoded data removed]",
                  "text/plain": [
                     "<Figure size 640x480 with 4 Axes>"
                  ]
               },
               "metadata": {},
               "output_type": "display_data"
            }
         ],
         "source": [
            "import matplotlib.pyplot as plt\n",
            "from mpl_toolkits.axes_grid1 import make_axes_locatable\n",
            "\n",
            "# plot attention maps\n",
            "fig, axes = plt.subplots(nrows=1, ncols=2)\n",
            "\n",
            "seq_length0, seq_length1 = int(sequences_lengths[0][0]), int(sequences_lengths[1][0])\n",
            "\n",
            "# plot for first seq in the batch\n",
            "im0 = axes[0].imshow(\n",
            "    outs[\"attention_map_layer_1_number_4\"][\n",
            "        0, 1 : (seq_length0 + 1), 1 : (seq_length0 + 1)\n",
            "    ]\n",
            ")\n",
            "divider0 = make_axes_locatable(axes[0])\n",
            "cax0 = divider0.append_axes(\"right\", size=\"5%\", pad=0.05)\n",
            "tokens0 = tokens_str[0][1 : (seq_length0 + 1)]\n",
            "axes[0].set_xticks(list(range(seq_length0)), tokens0, rotation=45)\n",
            "axes[0].set_yticks(list(range(seq_length0)), tokens0, rotation=45)\n",
            "fig.colorbar(im0, cax=cax0, orientation=\"vertical\")\n",
            "\n",
            "# plot for second seq in the batch\n",
            "im1 = axes[1].imshow(\n",
            "    outs[\"attention_map_layer_1_number_4\"][\n",
            "        1, 1 : (seq_length1 + 1), 1 : (seq_length1 + 1)\n",
            "    ]\n",
            ")\n",
            "divider1 = make_axes_locatable(axes[1])\n",
            "cax1 = divider1.append_axes(\"right\", size=\"5%\", pad=0.05)\n",
            "tokens1 = tokens_str[1][1 : (seq_length1 + 1)]\n",
            "axes[1].set_xticks(list(range(seq_length1)), tokens1, rotation=45)\n",
            "axes[1].set_yticks(list(range(seq_length1)), tokens1, rotation=45)\n",
            "fig.colorbar(im1, cax=cax1, orientation=\"vertical\")\n",
            "\n",
            "fig.tight_layout()"
         ]
      },
      {
         "cell_type": "markdown",
         "id": "e85fa9df-ae2e-4b87-aa6c-ab0ddce66fe5",
         "metadata": {},
         "source": [
            "## Get probabilities\n",
            "Finally, let's look at the model probabilities over the vocabulary at each position. These can be used notably to compute reconstruction accuracies and perplexities."
         ]
      },
      {
         "cell_type": "code",
         "execution_count": 34,
         "id": "541310f1-0819-4c50-97f1-5fbb8afddd93",
         "metadata": {},
         "outputs": [
            {
               "name": "stdout",
               "output_type": "stream",
               "text": [
                  "(5, 4107)\n",
                  "(8, 4107)\n"
               ]
            }
         ],
         "source": [
            "logits = outs[\"logits\"]\n",
            "probabilities = []\n",
            "\n",
            "# get probabilities separately for each seq as they have different lengths\n",
            "for seq_id in range(logits.shape[0]):\n",
            "\n",
            "    logits_seq = logits[seq_id]\n",
            "    seq_length = int(sequences_lengths[seq_id][0])\n",
            "    logits_seq = logits_seq[1 : (seq_length + 1)]  # remove CLS token and pads\n",
            "    probas = jax.nn.softmax(\n",
            "        logits_seq, axis=-1\n",
            "    )  # use softmax to transform logits into probabilities\n",
            "\n",
            "    print(probas.shape)\n",
            "    probabilities.append(probas)"
         ]
      },
      {
         "cell_type": "markdown",
         "id": "224f8b51-54c2-47d0-8b00-9c5c4861db48",
         "metadata": {},
         "source": [
            "Let's look in particular at a given sequence and position and show the top-k probabilities and corresponding tokens."
         ]
      },
      {
         "cell_type": "code",
         "execution_count": 35,
         "id": "3a7b6723-8a22-490d-9903-dee92898eed7",
         "metadata": {},
         "outputs": [
            {
               "name": "stdout",
               "output_type": "stream",
               "text": [
                  "token: AAATCG, probability: 95.13%\n",
                  "token: AAATCC, probability: 1.93%\n",
                  "token: AAATCA, probability: 0.70%\n",
                  "token: AAGTCA, probability: 0.19%\n",
                  "token: AAACCA, probability: 0.14%\n"
               ]
            }
         ],
         "source": [
            "sequence_id = 0\n",
            "position_id = 1\n",
            "\n",
            "probs = probabilities[sequence_id][position_id]\n",
            "sorted_positions = jnp.argsort(-probs)\n",
            "sorted_probs = probs[sorted_positions]\n",
            "\n",
            "top_k = 5\n",
            "for k in range(top_k):\n",
            "    predicted_token = tokenizer.id_to_token(int(sorted_positions[k]))\n",
            "    prob = sorted_probs[k]\n",
            "    print(f\"token: {predicted_token}, probability: {prob * 100:.2f}%\")"
         ]
      }
   ],
   "metadata": {
      "kernelspec": {
         "display_name": "nutr_git",
         "language": "python",
         "name": "python3"
      },
      "language_info": {
         "codemirror_mode": {
            "name": "ipython",
            "version": 3
         },
         "file_extension": ".py",
         "mimetype": "text/x-python",
         "name": "python",
         "nbconvert_exporter": "python",
         "pygments_lexer": "ipython3",
         "version": "3.11.0"
      }
   },
   "nbformat": 4,
   "nbformat_minor": 5
}
